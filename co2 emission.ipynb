{
 "cells": [
  {
   "cell_type": "code",
   "execution_count": 1,
   "id": "473714f8",
   "metadata": {},
   "outputs": [],
   "source": [
    "import numpy as np\n",
    "import pandas as pd\n",
    "import matplotlib.pyplot as plt\n",
    "import seaborn as sns\n",
    "from sklearn.model_selection import train_test_split\n",
    "from sklearn.metrics import r2_score"
   ]
  },
  {
   "cell_type": "code",
   "execution_count": 2,
   "id": "81772773",
   "metadata": {},
   "outputs": [],
   "source": [
    "df=pd.read_csv('CO2_emission.csv')"
   ]
  },
  {
   "cell_type": "code",
   "execution_count": 3,
   "id": "46e2e214",
   "metadata": {},
   "outputs": [
    {
     "data": {
      "text/html": [
       "<div>\n",
       "<style scoped>\n",
       "    .dataframe tbody tr th:only-of-type {\n",
       "        vertical-align: middle;\n",
       "    }\n",
       "\n",
       "    .dataframe tbody tr th {\n",
       "        vertical-align: top;\n",
       "    }\n",
       "\n",
       "    .dataframe thead th {\n",
       "        text-align: right;\n",
       "    }\n",
       "</style>\n",
       "<table border=\"1\" class=\"dataframe\">\n",
       "  <thead>\n",
       "    <tr style=\"text-align: right;\">\n",
       "      <th></th>\n",
       "      <th>Model_Year</th>\n",
       "      <th>Make</th>\n",
       "      <th>Model</th>\n",
       "      <th>Vehicle_Class</th>\n",
       "      <th>Engine_Size</th>\n",
       "      <th>Cylinders</th>\n",
       "      <th>Transmission</th>\n",
       "      <th>Fuel_Consumption_in_City(L/100 km)</th>\n",
       "      <th>Fuel_Consumption_in_City_Hwy(L/100 km)</th>\n",
       "      <th>Fuel_Consumption_comb(L/100km)</th>\n",
       "      <th>CO2_Emissions</th>\n",
       "      <th>Smog_Level</th>\n",
       "    </tr>\n",
       "  </thead>\n",
       "  <tbody>\n",
       "    <tr>\n",
       "      <th>0</th>\n",
       "      <td>2021</td>\n",
       "      <td>Acura</td>\n",
       "      <td>ILX</td>\n",
       "      <td>Compact</td>\n",
       "      <td>2.4</td>\n",
       "      <td>4</td>\n",
       "      <td>AM8</td>\n",
       "      <td>9.9</td>\n",
       "      <td>7.0</td>\n",
       "      <td>8.6</td>\n",
       "      <td>199</td>\n",
       "      <td>3</td>\n",
       "    </tr>\n",
       "    <tr>\n",
       "      <th>1</th>\n",
       "      <td>2021</td>\n",
       "      <td>Acura</td>\n",
       "      <td>NSX</td>\n",
       "      <td>Two-seater</td>\n",
       "      <td>3.5</td>\n",
       "      <td>6</td>\n",
       "      <td>AM9</td>\n",
       "      <td>11.1</td>\n",
       "      <td>10.8</td>\n",
       "      <td>11.0</td>\n",
       "      <td>256</td>\n",
       "      <td>3</td>\n",
       "    </tr>\n",
       "    <tr>\n",
       "      <th>2</th>\n",
       "      <td>2021</td>\n",
       "      <td>Acura</td>\n",
       "      <td>RDX SH-AWD</td>\n",
       "      <td>SUV: Small</td>\n",
       "      <td>2.0</td>\n",
       "      <td>4</td>\n",
       "      <td>AS10</td>\n",
       "      <td>11.0</td>\n",
       "      <td>8.6</td>\n",
       "      <td>9.9</td>\n",
       "      <td>232</td>\n",
       "      <td>6</td>\n",
       "    </tr>\n",
       "    <tr>\n",
       "      <th>3</th>\n",
       "      <td>2021</td>\n",
       "      <td>Acura</td>\n",
       "      <td>RDX SH-AWD A-SPEC</td>\n",
       "      <td>SUV: Small</td>\n",
       "      <td>2.0</td>\n",
       "      <td>4</td>\n",
       "      <td>AS10</td>\n",
       "      <td>11.3</td>\n",
       "      <td>9.1</td>\n",
       "      <td>10.3</td>\n",
       "      <td>242</td>\n",
       "      <td>6</td>\n",
       "    </tr>\n",
       "    <tr>\n",
       "      <th>4</th>\n",
       "      <td>2021</td>\n",
       "      <td>Acura</td>\n",
       "      <td>TLX SH-AWD</td>\n",
       "      <td>Compact</td>\n",
       "      <td>2.0</td>\n",
       "      <td>4</td>\n",
       "      <td>AS10</td>\n",
       "      <td>11.2</td>\n",
       "      <td>8.0</td>\n",
       "      <td>9.8</td>\n",
       "      <td>230</td>\n",
       "      <td>7</td>\n",
       "    </tr>\n",
       "  </tbody>\n",
       "</table>\n",
       "</div>"
      ],
      "text/plain": [
       "   Model_Year   Make              Model Vehicle_Class  Engine_Size  Cylinders  \\\n",
       "0        2021  Acura                ILX       Compact          2.4          4   \n",
       "1        2021  Acura                NSX    Two-seater          3.5          6   \n",
       "2        2021  Acura         RDX SH-AWD    SUV: Small          2.0          4   \n",
       "3        2021  Acura  RDX SH-AWD A-SPEC    SUV: Small          2.0          4   \n",
       "4        2021  Acura         TLX SH-AWD       Compact          2.0          4   \n",
       "\n",
       "  Transmission  Fuel_Consumption_in_City(L/100 km)  \\\n",
       "0          AM8                                 9.9   \n",
       "1          AM9                                11.1   \n",
       "2         AS10                                11.0   \n",
       "3         AS10                                11.3   \n",
       "4         AS10                                11.2   \n",
       "\n",
       "   Fuel_Consumption_in_City_Hwy(L/100 km)  Fuel_Consumption_comb(L/100km)  \\\n",
       "0                                     7.0                             8.6   \n",
       "1                                    10.8                            11.0   \n",
       "2                                     8.6                             9.9   \n",
       "3                                     9.1                            10.3   \n",
       "4                                     8.0                             9.8   \n",
       "\n",
       "   CO2_Emissions  Smog_Level  \n",
       "0            199           3  \n",
       "1            256           3  \n",
       "2            232           6  \n",
       "3            242           6  \n",
       "4            230           7  "
      ]
     },
     "execution_count": 3,
     "metadata": {},
     "output_type": "execute_result"
    }
   ],
   "source": [
    "df.head()"
   ]
  },
  {
   "cell_type": "code",
   "execution_count": 4,
   "id": "59f094a1",
   "metadata": {},
   "outputs": [
    {
     "data": {
      "text/plain": [
       "(935, 12)"
      ]
     },
     "execution_count": 4,
     "metadata": {},
     "output_type": "execute_result"
    }
   ],
   "source": [
    "df.shape"
   ]
  },
  {
   "cell_type": "code",
   "execution_count": 5,
   "id": "cf2cbcdd",
   "metadata": {},
   "outputs": [
    {
     "name": "stdout",
     "output_type": "stream",
     "text": [
      "<class 'pandas.core.frame.DataFrame'>\n",
      "RangeIndex: 935 entries, 0 to 934\n",
      "Data columns (total 12 columns):\n",
      " #   Column                                  Non-Null Count  Dtype  \n",
      "---  ------                                  --------------  -----  \n",
      " 0   Model_Year                              935 non-null    int64  \n",
      " 1   Make                                    935 non-null    object \n",
      " 2   Model                                   935 non-null    object \n",
      " 3   Vehicle_Class                           935 non-null    object \n",
      " 4   Engine_Size                             935 non-null    float64\n",
      " 5   Cylinders                               935 non-null    int64  \n",
      " 6   Transmission                            935 non-null    object \n",
      " 7   Fuel_Consumption_in_City(L/100 km)      935 non-null    float64\n",
      " 8   Fuel_Consumption_in_City_Hwy(L/100 km)  935 non-null    float64\n",
      " 9   Fuel_Consumption_comb(L/100km)          935 non-null    float64\n",
      " 10  CO2_Emissions                           935 non-null    int64  \n",
      " 11  Smog_Level                              935 non-null    int64  \n",
      "dtypes: float64(4), int64(4), object(4)\n",
      "memory usage: 87.8+ KB\n"
     ]
    }
   ],
   "source": [
    "df.info()"
   ]
  },
  {
   "cell_type": "code",
   "execution_count": 6,
   "id": "e6b1d9cc",
   "metadata": {},
   "outputs": [
    {
     "data": {
      "text/html": [
       "<div>\n",
       "<style scoped>\n",
       "    .dataframe tbody tr th:only-of-type {\n",
       "        vertical-align: middle;\n",
       "    }\n",
       "\n",
       "    .dataframe tbody tr th {\n",
       "        vertical-align: top;\n",
       "    }\n",
       "\n",
       "    .dataframe thead th {\n",
       "        text-align: right;\n",
       "    }\n",
       "</style>\n",
       "<table border=\"1\" class=\"dataframe\">\n",
       "  <thead>\n",
       "    <tr style=\"text-align: right;\">\n",
       "      <th></th>\n",
       "      <th>Model_Year</th>\n",
       "      <th>Make</th>\n",
       "      <th>Model</th>\n",
       "      <th>Vehicle_Class</th>\n",
       "      <th>Engine_Size</th>\n",
       "      <th>Cylinders</th>\n",
       "      <th>Transmission</th>\n",
       "      <th>Fuel_Consumption_in_City(L/100 km)</th>\n",
       "      <th>Fuel_Consumption_in_City_Hwy(L/100 km)</th>\n",
       "      <th>Fuel_Consumption_comb(L/100km)</th>\n",
       "      <th>CO2_Emissions</th>\n",
       "      <th>Smog_Level</th>\n",
       "    </tr>\n",
       "  </thead>\n",
       "  <tbody>\n",
       "    <tr>\n",
       "      <th>count</th>\n",
       "      <td>935.0</td>\n",
       "      <td>935</td>\n",
       "      <td>935</td>\n",
       "      <td>935</td>\n",
       "      <td>935.000000</td>\n",
       "      <td>935.000000</td>\n",
       "      <td>935</td>\n",
       "      <td>935.000000</td>\n",
       "      <td>935.000000</td>\n",
       "      <td>935.000000</td>\n",
       "      <td>935.000000</td>\n",
       "      <td>935.000000</td>\n",
       "    </tr>\n",
       "    <tr>\n",
       "      <th>unique</th>\n",
       "      <td>NaN</td>\n",
       "      <td>38</td>\n",
       "      <td>703</td>\n",
       "      <td>15</td>\n",
       "      <td>NaN</td>\n",
       "      <td>NaN</td>\n",
       "      <td>23</td>\n",
       "      <td>NaN</td>\n",
       "      <td>NaN</td>\n",
       "      <td>NaN</td>\n",
       "      <td>NaN</td>\n",
       "      <td>NaN</td>\n",
       "    </tr>\n",
       "    <tr>\n",
       "      <th>top</th>\n",
       "      <td>NaN</td>\n",
       "      <td>Ford</td>\n",
       "      <td>Silverado 4WD</td>\n",
       "      <td>SUV: Small</td>\n",
       "      <td>NaN</td>\n",
       "      <td>NaN</td>\n",
       "      <td>AS8</td>\n",
       "      <td>NaN</td>\n",
       "      <td>NaN</td>\n",
       "      <td>NaN</td>\n",
       "      <td>NaN</td>\n",
       "      <td>NaN</td>\n",
       "    </tr>\n",
       "    <tr>\n",
       "      <th>freq</th>\n",
       "      <td>NaN</td>\n",
       "      <td>87</td>\n",
       "      <td>7</td>\n",
       "      <td>192</td>\n",
       "      <td>NaN</td>\n",
       "      <td>NaN</td>\n",
       "      <td>206</td>\n",
       "      <td>NaN</td>\n",
       "      <td>NaN</td>\n",
       "      <td>NaN</td>\n",
       "      <td>NaN</td>\n",
       "      <td>NaN</td>\n",
       "    </tr>\n",
       "    <tr>\n",
       "      <th>mean</th>\n",
       "      <td>2021.0</td>\n",
       "      <td>NaN</td>\n",
       "      <td>NaN</td>\n",
       "      <td>NaN</td>\n",
       "      <td>3.214866</td>\n",
       "      <td>5.716578</td>\n",
       "      <td>NaN</td>\n",
       "      <td>12.498610</td>\n",
       "      <td>9.306203</td>\n",
       "      <td>11.060214</td>\n",
       "      <td>258.529412</td>\n",
       "      <td>4.726203</td>\n",
       "    </tr>\n",
       "    <tr>\n",
       "      <th>std</th>\n",
       "      <td>0.0</td>\n",
       "      <td>NaN</td>\n",
       "      <td>NaN</td>\n",
       "      <td>NaN</td>\n",
       "      <td>1.388513</td>\n",
       "      <td>1.977359</td>\n",
       "      <td>NaN</td>\n",
       "      <td>3.487271</td>\n",
       "      <td>2.215819</td>\n",
       "      <td>2.867028</td>\n",
       "      <td>64.442768</td>\n",
       "      <td>1.712127</td>\n",
       "    </tr>\n",
       "    <tr>\n",
       "      <th>min</th>\n",
       "      <td>2021.0</td>\n",
       "      <td>NaN</td>\n",
       "      <td>NaN</td>\n",
       "      <td>NaN</td>\n",
       "      <td>1.000000</td>\n",
       "      <td>3.000000</td>\n",
       "      <td>NaN</td>\n",
       "      <td>4.000000</td>\n",
       "      <td>3.900000</td>\n",
       "      <td>4.000000</td>\n",
       "      <td>94.000000</td>\n",
       "      <td>1.000000</td>\n",
       "    </tr>\n",
       "    <tr>\n",
       "      <th>25%</th>\n",
       "      <td>2021.0</td>\n",
       "      <td>NaN</td>\n",
       "      <td>NaN</td>\n",
       "      <td>NaN</td>\n",
       "      <td>2.000000</td>\n",
       "      <td>4.000000</td>\n",
       "      <td>NaN</td>\n",
       "      <td>10.100000</td>\n",
       "      <td>7.700000</td>\n",
       "      <td>9.100000</td>\n",
       "      <td>213.000000</td>\n",
       "      <td>3.000000</td>\n",
       "    </tr>\n",
       "    <tr>\n",
       "      <th>50%</th>\n",
       "      <td>2021.0</td>\n",
       "      <td>NaN</td>\n",
       "      <td>NaN</td>\n",
       "      <td>NaN</td>\n",
       "      <td>3.000000</td>\n",
       "      <td>6.000000</td>\n",
       "      <td>NaN</td>\n",
       "      <td>12.000000</td>\n",
       "      <td>9.000000</td>\n",
       "      <td>10.700000</td>\n",
       "      <td>255.000000</td>\n",
       "      <td>5.000000</td>\n",
       "    </tr>\n",
       "    <tr>\n",
       "      <th>75%</th>\n",
       "      <td>2021.0</td>\n",
       "      <td>NaN</td>\n",
       "      <td>NaN</td>\n",
       "      <td>NaN</td>\n",
       "      <td>4.000000</td>\n",
       "      <td>8.000000</td>\n",
       "      <td>NaN</td>\n",
       "      <td>14.800000</td>\n",
       "      <td>10.800000</td>\n",
       "      <td>13.100000</td>\n",
       "      <td>303.500000</td>\n",
       "      <td>6.000000</td>\n",
       "    </tr>\n",
       "    <tr>\n",
       "      <th>max</th>\n",
       "      <td>2021.0</td>\n",
       "      <td>NaN</td>\n",
       "      <td>NaN</td>\n",
       "      <td>NaN</td>\n",
       "      <td>8.000000</td>\n",
       "      <td>16.000000</td>\n",
       "      <td>NaN</td>\n",
       "      <td>30.300000</td>\n",
       "      <td>20.900000</td>\n",
       "      <td>26.100000</td>\n",
       "      <td>608.000000</td>\n",
       "      <td>7.000000</td>\n",
       "    </tr>\n",
       "  </tbody>\n",
       "</table>\n",
       "</div>"
      ],
      "text/plain": [
       "        Model_Year  Make          Model Vehicle_Class  Engine_Size  \\\n",
       "count        935.0   935            935           935   935.000000   \n",
       "unique         NaN    38            703            15          NaN   \n",
       "top            NaN  Ford  Silverado 4WD    SUV: Small          NaN   \n",
       "freq           NaN    87              7           192          NaN   \n",
       "mean        2021.0   NaN            NaN           NaN     3.214866   \n",
       "std            0.0   NaN            NaN           NaN     1.388513   \n",
       "min         2021.0   NaN            NaN           NaN     1.000000   \n",
       "25%         2021.0   NaN            NaN           NaN     2.000000   \n",
       "50%         2021.0   NaN            NaN           NaN     3.000000   \n",
       "75%         2021.0   NaN            NaN           NaN     4.000000   \n",
       "max         2021.0   NaN            NaN           NaN     8.000000   \n",
       "\n",
       "         Cylinders Transmission  Fuel_Consumption_in_City(L/100 km)  \\\n",
       "count   935.000000          935                          935.000000   \n",
       "unique         NaN           23                                 NaN   \n",
       "top            NaN          AS8                                 NaN   \n",
       "freq           NaN          206                                 NaN   \n",
       "mean      5.716578          NaN                           12.498610   \n",
       "std       1.977359          NaN                            3.487271   \n",
       "min       3.000000          NaN                            4.000000   \n",
       "25%       4.000000          NaN                           10.100000   \n",
       "50%       6.000000          NaN                           12.000000   \n",
       "75%       8.000000          NaN                           14.800000   \n",
       "max      16.000000          NaN                           30.300000   \n",
       "\n",
       "        Fuel_Consumption_in_City_Hwy(L/100 km)  \\\n",
       "count                               935.000000   \n",
       "unique                                     NaN   \n",
       "top                                        NaN   \n",
       "freq                                       NaN   \n",
       "mean                                  9.306203   \n",
       "std                                   2.215819   \n",
       "min                                   3.900000   \n",
       "25%                                   7.700000   \n",
       "50%                                   9.000000   \n",
       "75%                                  10.800000   \n",
       "max                                  20.900000   \n",
       "\n",
       "        Fuel_Consumption_comb(L/100km)  CO2_Emissions  Smog_Level  \n",
       "count                       935.000000     935.000000  935.000000  \n",
       "unique                             NaN            NaN         NaN  \n",
       "top                                NaN            NaN         NaN  \n",
       "freq                               NaN            NaN         NaN  \n",
       "mean                         11.060214     258.529412    4.726203  \n",
       "std                           2.867028      64.442768    1.712127  \n",
       "min                           4.000000      94.000000    1.000000  \n",
       "25%                           9.100000     213.000000    3.000000  \n",
       "50%                          10.700000     255.000000    5.000000  \n",
       "75%                          13.100000     303.500000    6.000000  \n",
       "max                          26.100000     608.000000    7.000000  "
      ]
     },
     "execution_count": 6,
     "metadata": {},
     "output_type": "execute_result"
    }
   ],
   "source": [
    "df.describe(include='all')"
   ]
  },
  {
   "cell_type": "code",
   "execution_count": 7,
   "id": "30133b04",
   "metadata": {},
   "outputs": [],
   "source": [
    "df.drop('Model_Year',inplace=True,axis=1)"
   ]
  },
  {
   "cell_type": "code",
   "execution_count": 8,
   "id": "f8c8418a",
   "metadata": {
    "scrolled": true
   },
   "outputs": [
    {
     "data": {
      "text/plain": [
       "Ford             87\n",
       "Chevrolet        84\n",
       "Mercedes-Benz    72\n",
       "Porsche          63\n",
       "GMC              61\n",
       "BMW              54\n",
       "Toyota           49\n",
       "Audi             43\n",
       "Jeep             36\n",
       "Mazda            29\n",
       "Hyundai          27\n",
       "Lexus            27\n",
       "Kia              25\n",
       "Honda            23\n",
       "MINI             22\n",
       "Nissan           22\n",
       "Dodge            22\n",
       "Cadillac         22\n",
       "Ram              16\n",
       "Volkswagen       16\n",
       "Subaru           16\n",
       "Volvo            13\n",
       "Maserati         11\n",
       "Rolls-Royce      10\n",
       "Lamborghini       9\n",
       "Buick             9\n",
       "Bentley           8\n",
       "Genesis           8\n",
       "Lincoln           7\n",
       "Acura             6\n",
       "Alfa Romeo        6\n",
       "Infiniti          6\n",
       "Chrysler          6\n",
       "Aston Martin      6\n",
       "Jaguar            6\n",
       "Mitsubishi        5\n",
       "Bugatti           2\n",
       "FIAT              1\n",
       "Name: Make, dtype: int64"
      ]
     },
     "execution_count": 8,
     "metadata": {},
     "output_type": "execute_result"
    }
   ],
   "source": [
    "df['Make'].value_counts()"
   ]
  },
  {
   "cell_type": "code",
   "execution_count": 9,
   "id": "198293c1",
   "metadata": {},
   "outputs": [
    {
     "data": {
      "text/plain": [
       "Silverado 4WD                    7\n",
       "Sierra 4WD                       7\n",
       "Sierra                           5\n",
       "Silverado                        5\n",
       "Mustang                          5\n",
       "                                ..\n",
       "Terrain AWD                      1\n",
       "Yukon (Without Stop-Start)       1\n",
       "Yukon XL (Without Stop-Start)    1\n",
       "Accord                           1\n",
       "XC90 T6 AWD                      1\n",
       "Name: Model, Length: 703, dtype: int64"
      ]
     },
     "execution_count": 9,
     "metadata": {},
     "output_type": "execute_result"
    }
   ],
   "source": [
    "df['Model'].value_counts()"
   ]
  },
  {
   "cell_type": "code",
   "execution_count": 10,
   "id": "8c3e8075",
   "metadata": {},
   "outputs": [
    {
     "data": {
      "text/plain": [
       "SUV: Small                 192\n",
       "SUV: Standard              127\n",
       "Pickup truck: Standard     115\n",
       "Mid-size                   114\n",
       "Compact                     83\n",
       "Subcompact                  83\n",
       "Full-size                   65\n",
       "Two-seater                  56\n",
       "Minicompact                 30\n",
       "Station wagon: Small        20\n",
       "Pickup truck: Small         17\n",
       "Special purpose vehicle     13\n",
       "Station wagon: Mid-size      9\n",
       "Minivan                      7\n",
       "Van: Passenger               4\n",
       "Name: Vehicle_Class, dtype: int64"
      ]
     },
     "execution_count": 10,
     "metadata": {},
     "output_type": "execute_result"
    }
   ],
   "source": [
    "df['Vehicle_Class'].value_counts()"
   ]
  },
  {
   "cell_type": "code",
   "execution_count": 11,
   "id": "8992627d",
   "metadata": {},
   "outputs": [
    {
     "data": {
      "text/plain": [
       "4     407\n",
       "6     265\n",
       "8     213\n",
       "12     21\n",
       "3      18\n",
       "10      8\n",
       "16      2\n",
       "5       1\n",
       "Name: Cylinders, dtype: int64"
      ]
     },
     "execution_count": 11,
     "metadata": {},
     "output_type": "execute_result"
    }
   ],
   "source": [
    "df['Cylinders'].value_counts()"
   ]
  },
  {
   "cell_type": "code",
   "execution_count": 12,
   "id": "f96e6791",
   "metadata": {},
   "outputs": [
    {
     "data": {
      "text/plain": [
       "AS8     206\n",
       "A9       95\n",
       "A8       92\n",
       "AS10     77\n",
       "AM7      70\n",
       "M6       67\n",
       "A10      59\n",
       "AS6      56\n",
       "AM8      44\n",
       "AV       41\n",
       "A6       36\n",
       "AV8      15\n",
       "AS9      14\n",
       "AV7      11\n",
       "AM6       9\n",
       "M7        9\n",
       "AV6       9\n",
       "AS7       7\n",
       "AV10      6\n",
       "M5        5\n",
       "AV1       4\n",
       "AS5       2\n",
       "AM9       1\n",
       "Name: Transmission, dtype: int64"
      ]
     },
     "execution_count": 12,
     "metadata": {},
     "output_type": "execute_result"
    }
   ],
   "source": [
    "df['Transmission'].value_counts()"
   ]
  },
  {
   "cell_type": "code",
   "execution_count": 13,
   "id": "6b8cefb1",
   "metadata": {},
   "outputs": [
    {
     "data": {
      "text/plain": [
       "Index(['Make', 'Model', 'Vehicle_Class', 'Engine_Size', 'Cylinders',\n",
       "       'Transmission', 'Fuel_Consumption_in_City(L/100 km)',\n",
       "       'Fuel_Consumption_in_City_Hwy(L/100 km)',\n",
       "       'Fuel_Consumption_comb(L/100km)', 'CO2_Emissions', 'Smog_Level'],\n",
       "      dtype='object')"
      ]
     },
     "execution_count": 13,
     "metadata": {},
     "output_type": "execute_result"
    }
   ],
   "source": [
    "df.columns"
   ]
  },
  {
   "cell_type": "code",
   "execution_count": 14,
   "id": "bb1c46e1",
   "metadata": {},
   "outputs": [
    {
     "data": {
      "image/png": "[encoded data removed]",
      "text/plain": [
       "<Figure size 1440x576 with 1 Axes>"
      ]
     },
     "metadata": {
      "needs_background": "light"
     },
     "output_type": "display_data"
    }
   ],
   "source": [
    "df.boxplot(by ='Make', column =['CO2_Emissions'], grid = False, figsize=(20, 8))\n",
    "plt.xticks(rotation=90);"
   ]
  },
  {
   "cell_type": "code",
   "execution_count": 15,
   "id": "128862ea",
   "metadata": {},
   "outputs": [
    {
     "data": {
      "image/png": "[encoded data removed]",
      "text/plain": [
       "<Figure size 1440x576 with 1 Axes>"
      ]
     },
     "metadata": {
      "needs_background": "light"
     },
     "output_type": "display_data"
    }
   ],
   "source": [
    "df.boxplot(by ='Cylinders', column =['CO2_Emissions'], grid = False, figsize=(20, 8));"
   ]
  },
  {
   "cell_type": "code",
   "execution_count": 16,
   "id": "3cf5cdae",
   "metadata": {},
   "outputs": [
    {
     "data": {
      "image/png": "[encoded data removed]",
      "text/plain": [
       "<Figure size 1440x576 with 1 Axes>"
      ]
     },
     "metadata": {
      "needs_background": "light"
     },
     "output_type": "display_data"
    }
   ],
   "source": [
    "df.boxplot(by ='Transmission', column =['CO2_Emissions'], grid = False, figsize=(20, 8))\n",
    "plt.xticks(rotation=90);"
   ]
  },
  {
   "cell_type": "code",
   "execution_count": 17,
   "id": "57085847",
   "metadata": {},
   "outputs": [
    {
     "data": {
      "image/png": "[encoded data removed]",
      "text/plain": [
       "<Figure size 720x576 with 1 Axes>"
      ]
     },
     "metadata": {
      "needs_background": "light"
     },
     "output_type": "display_data"
    }
   ],
   "source": [
    "plt.subplots(figsize=(10, 8))\n",
    "\n",
    "plt.scatter(df['Fuel_Consumption_comb(L/100km)'],df['CO2_Emissions'])\n",
    "\n",
    "plt.xlabel(\"Total fuel consumption\")\n",
    "plt.ylabel(\"co2 emission\")\n",
    "\n",
    "plt.show()"
   ]
  },
  {
   "cell_type": "code",
   "execution_count": 18,
   "id": "5fa2760b",
   "metadata": {},
   "outputs": [
    {
     "name": "stderr",
     "output_type": "stream",
     "text": [
      "c:\\python\\python39\\lib\\site-packages\\seaborn\\_decorators.py:36: FutureWarning: Pass the following variables as keyword args: x, y, data. From version 0.12, the only valid positional argument will be `data`, and passing other arguments without an explicit keyword will result in an error or misinterpretation.\n",
      "  warnings.warn(\n"
     ]
    },
    {
     "data": {
      "image/png": "[encoded data removed]",
      "text/plain": [
       "<Figure size 360x360 with 1 Axes>"
      ]
     },
     "metadata": {
      "needs_background": "light"
     },
     "output_type": "display_data"
    }
   ],
   "source": [
    "sns.lmplot('Engine_Size', 'CO2_Emissions', df)\n",
    "\n",
    "plt.xlabel(\"Engine size\")\n",
    "plt.ylabel(\"co2 emission\");"
   ]
  },
  {
   "cell_type": "code",
   "execution_count": 19,
   "id": "47cc7a9d",
   "metadata": {},
   "outputs": [
    {
     "data": {
      "text/plain": [
       "Index(['Make', 'Model', 'Vehicle_Class', 'Engine_Size', 'Cylinders',\n",
       "       'Transmission', 'Fuel_Consumption_in_City(L/100 km)',\n",
       "       'Fuel_Consumption_in_City_Hwy(L/100 km)',\n",
       "       'Fuel_Consumption_comb(L/100km)', 'CO2_Emissions', 'Smog_Level'],\n",
       "      dtype='object')"
      ]
     },
     "execution_count": 19,
     "metadata": {},
     "output_type": "execute_result"
    }
   ],
   "source": [
    "df.columns"
   ]
  },
  {
   "cell_type": "code",
   "execution_count": 20,
   "id": "3b5b8460",
   "metadata": {},
   "outputs": [],
   "source": [
    "df.drop('Smog_Level',inplace=True,axis=1)"
   ]
  },
  {
   "cell_type": "code",
   "execution_count": 21,
   "id": "7d9a1930",
   "metadata": {},
   "outputs": [],
   "source": [
    "df.drop('Model',inplace=True,axis=1)"
   ]
  },
  {
   "cell_type": "code",
   "execution_count": 22,
   "id": "aaad4aff",
   "metadata": {},
   "outputs": [
    {
     "name": "stdout",
     "output_type": "stream",
     "text": [
      "<class 'pandas.core.frame.DataFrame'>\n",
      "RangeIndex: 935 entries, 0 to 934\n",
      "Data columns (total 9 columns):\n",
      " #   Column                                  Non-Null Count  Dtype  \n",
      "---  ------                                  --------------  -----  \n",
      " 0   Make                                    935 non-null    object \n",
      " 1   Vehicle_Class                           935 non-null    object \n",
      " 2   Engine_Size                             935 non-null    float64\n",
      " 3   Cylinders                               935 non-null    int64  \n",
      " 4   Transmission                            935 non-null    object \n",
      " 5   Fuel_Consumption_in_City(L/100 km)      935 non-null    float64\n",
      " 6   Fuel_Consumption_in_City_Hwy(L/100 km)  935 non-null    float64\n",
      " 7   Fuel_Consumption_comb(L/100km)          935 non-null    float64\n",
      " 8   CO2_Emissions                           935 non-null    int64  \n",
      "dtypes: float64(4), int64(2), object(3)\n",
      "memory usage: 65.9+ KB\n"
     ]
    }
   ],
   "source": [
    "df.info()"
   ]
  },
  {
   "cell_type": "code",
   "execution_count": 23,
   "id": "66c7bd7e",
   "metadata": {},
   "outputs": [
    {
     "data": {
      "text/html": [
       "<div>\n",
       "<style scoped>\n",
       "    .dataframe tbody tr th:only-of-type {\n",
       "        vertical-align: middle;\n",
       "    }\n",
       "\n",
       "    .dataframe tbody tr th {\n",
       "        vertical-align: top;\n",
       "    }\n",
       "\n",
       "    .dataframe thead th {\n",
       "        text-align: right;\n",
       "    }\n",
       "</style>\n",
       "<table border=\"1\" class=\"dataframe\">\n",
       "  <thead>\n",
       "    <tr style=\"text-align: right;\">\n",
       "      <th></th>\n",
       "      <th>Engine_Size</th>\n",
       "      <th>Cylinders</th>\n",
       "      <th>Fuel_Consumption_in_City(L/100 km)</th>\n",
       "      <th>Fuel_Consumption_in_City_Hwy(L/100 km)</th>\n",
       "      <th>Fuel_Consumption_comb(L/100km)</th>\n",
       "      <th>CO2_Emissions</th>\n",
       "      <th>Make_Acura</th>\n",
       "      <th>Make_Alfa Romeo</th>\n",
       "      <th>Make_Aston Martin</th>\n",
       "      <th>Make_Audi</th>\n",
       "      <th>...</th>\n",
       "      <th>Transmission_AS9</th>\n",
       "      <th>Transmission_AV</th>\n",
       "      <th>Transmission_AV1</th>\n",
       "      <th>Transmission_AV10</th>\n",
       "      <th>Transmission_AV6</th>\n",
       "      <th>Transmission_AV7</th>\n",
       "      <th>Transmission_AV8</th>\n",
       "      <th>Transmission_M5</th>\n",
       "      <th>Transmission_M6</th>\n",
       "      <th>Transmission_M7</th>\n",
       "    </tr>\n",
       "  </thead>\n",
       "  <tbody>\n",
       "    <tr>\n",
       "      <th>0</th>\n",
       "      <td>2.4</td>\n",
       "      <td>4</td>\n",
       "      <td>9.9</td>\n",
       "      <td>7.0</td>\n",
       "      <td>8.6</td>\n",
       "      <td>199</td>\n",
       "      <td>1</td>\n",
       "      <td>0</td>\n",
       "      <td>0</td>\n",
       "      <td>0</td>\n",
       "      <td>...</td>\n",
       "      <td>0</td>\n",
       "      <td>0</td>\n",
       "      <td>0</td>\n",
       "      <td>0</td>\n",
       "      <td>0</td>\n",
       "      <td>0</td>\n",
       "      <td>0</td>\n",
       "      <td>0</td>\n",
       "      <td>0</td>\n",
       "      <td>0</td>\n",
       "    </tr>\n",
       "    <tr>\n",
       "      <th>1</th>\n",
       "      <td>3.5</td>\n",
       "      <td>6</td>\n",
       "      <td>11.1</td>\n",
       "      <td>10.8</td>\n",
       "      <td>11.0</td>\n",
       "      <td>256</td>\n",
       "      <td>1</td>\n",
       "      <td>0</td>\n",
       "      <td>0</td>\n",
       "      <td>0</td>\n",
       "      <td>...</td>\n",
       "      <td>0</td>\n",
       "      <td>0</td>\n",
       "      <td>0</td>\n",
       "      <td>0</td>\n",
       "      <td>0</td>\n",
       "      <td>0</td>\n",
       "      <td>0</td>\n",
       "      <td>0</td>\n",
       "      <td>0</td>\n",
       "      <td>0</td>\n",
       "    </tr>\n",
       "    <tr>\n",
       "      <th>2</th>\n",
       "      <td>2.0</td>\n",
       "      <td>4</td>\n",
       "      <td>11.0</td>\n",
       "      <td>8.6</td>\n",
       "      <td>9.9</td>\n",
       "      <td>232</td>\n",
       "      <td>1</td>\n",
       "      <td>0</td>\n",
       "      <td>0</td>\n",
       "      <td>0</td>\n",
       "      <td>...</td>\n",
       "      <td>0</td>\n",
       "      <td>0</td>\n",
       "      <td>0</td>\n",
       "      <td>0</td>\n",
       "      <td>0</td>\n",
       "      <td>0</td>\n",
       "      <td>0</td>\n",
       "      <td>0</td>\n",
       "      <td>0</td>\n",
       "      <td>0</td>\n",
       "    </tr>\n",
       "    <tr>\n",
       "      <th>3</th>\n",
       "      <td>2.0</td>\n",
       "      <td>4</td>\n",
       "      <td>11.3</td>\n",
       "      <td>9.1</td>\n",
       "      <td>10.3</td>\n",
       "      <td>242</td>\n",
       "      <td>1</td>\n",
       "      <td>0</td>\n",
       "      <td>0</td>\n",
       "      <td>0</td>\n",
       "      <td>...</td>\n",
       "      <td>0</td>\n",
       "      <td>0</td>\n",
       "      <td>0</td>\n",
       "      <td>0</td>\n",
       "      <td>0</td>\n",
       "      <td>0</td>\n",
       "      <td>0</td>\n",
       "      <td>0</td>\n",
       "      <td>0</td>\n",
       "      <td>0</td>\n",
       "    </tr>\n",
       "    <tr>\n",
       "      <th>4</th>\n",
       "      <td>2.0</td>\n",
       "      <td>4</td>\n",
       "      <td>11.2</td>\n",
       "      <td>8.0</td>\n",
       "      <td>9.8</td>\n",
       "      <td>230</td>\n",
       "      <td>1</td>\n",
       "      <td>0</td>\n",
       "      <td>0</td>\n",
       "      <td>0</td>\n",
       "      <td>...</td>\n",
       "      <td>0</td>\n",
       "      <td>0</td>\n",
       "      <td>0</td>\n",
       "      <td>0</td>\n",
       "      <td>0</td>\n",
       "      <td>0</td>\n",
       "      <td>0</td>\n",
       "      <td>0</td>\n",
       "      <td>0</td>\n",
       "      <td>0</td>\n",
       "    </tr>\n",
       "  </tbody>\n",
       "</table>\n",
       "<p>5 rows × 82 columns</p>\n",
       "</div>"
      ],
      "text/plain": [
       "   Engine_Size  Cylinders  Fuel_Consumption_in_City(L/100 km)  \\\n",
       "0          2.4          4                                 9.9   \n",
       "1          3.5          6                                11.1   \n",
       "2          2.0          4                                11.0   \n",
       "3          2.0          4                                11.3   \n",
       "4          2.0          4                                11.2   \n",
       "\n",
       "   Fuel_Consumption_in_City_Hwy(L/100 km)  Fuel_Consumption_comb(L/100km)  \\\n",
       "0                                     7.0                             8.6   \n",
       "1                                    10.8                            11.0   \n",
       "2                                     8.6                             9.9   \n",
       "3                                     9.1                            10.3   \n",
       "4                                     8.0                             9.8   \n",
       "\n",
       "   CO2_Emissions  Make_Acura  Make_Alfa Romeo  Make_Aston Martin  Make_Audi  \\\n",
       "0            199           1                0                  0          0   \n",
       "1            256           1                0                  0          0   \n",
       "2            232           1                0                  0          0   \n",
       "3            242           1                0                  0          0   \n",
       "4            230           1                0                  0          0   \n",
       "\n",
       "   ...  Transmission_AS9  Transmission_AV  Transmission_AV1  \\\n",
       "0  ...                 0                0                 0   \n",
       "1  ...                 0                0                 0   \n",
       "2  ...                 0                0                 0   \n",
       "3  ...                 0                0                 0   \n",
       "4  ...                 0                0                 0   \n",
       "\n",
       "   Transmission_AV10  Transmission_AV6  Transmission_AV7  Transmission_AV8  \\\n",
       "0                  0                 0                 0                 0   \n",
       "1                  0                 0                 0                 0   \n",
       "2                  0                 0                 0                 0   \n",
       "3                  0                 0                 0                 0   \n",
       "4                  0                 0                 0                 0   \n",
       "\n",
       "   Transmission_M5  Transmission_M6  Transmission_M7  \n",
       "0                0                0                0  \n",
       "1                0                0                0  \n",
       "2                0                0                0  \n",
       "3                0                0                0  \n",
       "4                0                0                0  \n",
       "\n",
       "[5 rows x 82 columns]"
      ]
     },
     "execution_count": 23,
     "metadata": {},
     "output_type": "execute_result"
    }
   ],
   "source": [
    "df = pd.get_dummies(df, columns=['Make','Vehicle_Class','Transmission'])\n",
    "\n",
    "df.head()"
   ]
  },
  {
   "cell_type": "code",
   "execution_count": 24,
   "id": "1ed32894",
   "metadata": {},
   "outputs": [
    {
     "name": "stdout",
     "output_type": "stream",
     "text": [
      "<class 'pandas.core.frame.DataFrame'>\n",
      "RangeIndex: 935 entries, 0 to 934\n",
      "Data columns (total 82 columns):\n",
      " #   Column                                  Non-Null Count  Dtype  \n",
      "---  ------                                  --------------  -----  \n",
      " 0   Engine_Size                             935 non-null    float64\n",
      " 1   Cylinders                               935 non-null    int64  \n",
      " 2   Fuel_Consumption_in_City(L/100 km)      935 non-null    float64\n",
      " 3   Fuel_Consumption_in_City_Hwy(L/100 km)  935 non-null    float64\n",
      " 4   Fuel_Consumption_comb(L/100km)          935 non-null    float64\n",
      " 5   CO2_Emissions                           935 non-null    int64  \n",
      " 6   Make_Acura                              935 non-null    uint8  \n",
      " 7   Make_Alfa Romeo                         935 non-null    uint8  \n",
      " 8   Make_Aston Martin                       935 non-null    uint8  \n",
      " 9   Make_Audi                               935 non-null    uint8  \n",
      " 10  Make_BMW                                935 non-null    uint8  \n",
      " 11  Make_Bentley                            935 non-null    uint8  \n",
      " 12  Make_Bugatti                            935 non-null    uint8  \n",
      " 13  Make_Buick                              935 non-null    uint8  \n",
      " 14  Make_Cadillac                           935 non-null    uint8  \n",
      " 15  Make_Chevrolet                          935 non-null    uint8  \n",
      " 16  Make_Chrysler                           935 non-null    uint8  \n",
      " 17  Make_Dodge                              935 non-null    uint8  \n",
      " 18  Make_FIAT                               935 non-null    uint8  \n",
      " 19  Make_Ford                               935 non-null    uint8  \n",
      " 20  Make_GMC                                935 non-null    uint8  \n",
      " 21  Make_Genesis                            935 non-null    uint8  \n",
      " 22  Make_Honda                              935 non-null    uint8  \n",
      " 23  Make_Hyundai                            935 non-null    uint8  \n",
      " 24  Make_Infiniti                           935 non-null    uint8  \n",
      " 25  Make_Jaguar                             935 non-null    uint8  \n",
      " 26  Make_Jeep                               935 non-null    uint8  \n",
      " 27  Make_Kia                                935 non-null    uint8  \n",
      " 28  Make_Lamborghini                        935 non-null    uint8  \n",
      " 29  Make_Lexus                              935 non-null    uint8  \n",
      " 30  Make_Lincoln                            935 non-null    uint8  \n",
      " 31  Make_MINI                               935 non-null    uint8  \n",
      " 32  Make_Maserati                           935 non-null    uint8  \n",
      " 33  Make_Mazda                              935 non-null    uint8  \n",
      " 34  Make_Mercedes-Benz                      935 non-null    uint8  \n",
      " 35  Make_Mitsubishi                         935 non-null    uint8  \n",
      " 36  Make_Nissan                             935 non-null    uint8  \n",
      " 37  Make_Porsche                            935 non-null    uint8  \n",
      " 38  Make_Ram                                935 non-null    uint8  \n",
      " 39  Make_Rolls-Royce                        935 non-null    uint8  \n",
      " 40  Make_Subaru                             935 non-null    uint8  \n",
      " 41  Make_Toyota                             935 non-null    uint8  \n",
      " 42  Make_Volkswagen                         935 non-null    uint8  \n",
      " 43  Make_Volvo                              935 non-null    uint8  \n",
      " 44  Vehicle_Class_Compact                   935 non-null    uint8  \n",
      " 45  Vehicle_Class_Full-size                 935 non-null    uint8  \n",
      " 46  Vehicle_Class_Mid-size                  935 non-null    uint8  \n",
      " 47  Vehicle_Class_Minicompact               935 non-null    uint8  \n",
      " 48  Vehicle_Class_Minivan                   935 non-null    uint8  \n",
      " 49  Vehicle_Class_Pickup truck: Small       935 non-null    uint8  \n",
      " 50  Vehicle_Class_Pickup truck: Standard    935 non-null    uint8  \n",
      " 51  Vehicle_Class_SUV: Small                935 non-null    uint8  \n",
      " 52  Vehicle_Class_SUV: Standard             935 non-null    uint8  \n",
      " 53  Vehicle_Class_Special purpose vehicle   935 non-null    uint8  \n",
      " 54  Vehicle_Class_Station wagon: Mid-size   935 non-null    uint8  \n",
      " 55  Vehicle_Class_Station wagon: Small      935 non-null    uint8  \n",
      " 56  Vehicle_Class_Subcompact                935 non-null    uint8  \n",
      " 57  Vehicle_Class_Two-seater                935 non-null    uint8  \n",
      " 58  Vehicle_Class_Van: Passenger            935 non-null    uint8  \n",
      " 59  Transmission_A10                        935 non-null    uint8  \n",
      " 60  Transmission_A6                         935 non-null    uint8  \n",
      " 61  Transmission_A8                         935 non-null    uint8  \n",
      " 62  Transmission_A9                         935 non-null    uint8  \n",
      " 63  Transmission_AM6                        935 non-null    uint8  \n",
      " 64  Transmission_AM7                        935 non-null    uint8  \n",
      " 65  Transmission_AM8                        935 non-null    uint8  \n",
      " 66  Transmission_AM9                        935 non-null    uint8  \n",
      " 67  Transmission_AS10                       935 non-null    uint8  \n",
      " 68  Transmission_AS5                        935 non-null    uint8  \n",
      " 69  Transmission_AS6                        935 non-null    uint8  \n",
      " 70  Transmission_AS7                        935 non-null    uint8  \n",
      " 71  Transmission_AS8                        935 non-null    uint8  \n",
      " 72  Transmission_AS9                        935 non-null    uint8  \n",
      " 73  Transmission_AV                         935 non-null    uint8  \n",
      " 74  Transmission_AV1                        935 non-null    uint8  \n",
      " 75  Transmission_AV10                       935 non-null    uint8  \n",
      " 76  Transmission_AV6                        935 non-null    uint8  \n",
      " 77  Transmission_AV7                        935 non-null    uint8  \n",
      " 78  Transmission_AV8                        935 non-null    uint8  \n",
      " 79  Transmission_M5                         935 non-null    uint8  \n",
      " 80  Transmission_M6                         935 non-null    uint8  \n",
      " 81  Transmission_M7                         935 non-null    uint8  \n",
      "dtypes: float64(4), int64(2), uint8(76)\n",
      "memory usage: 113.3 KB\n"
     ]
    }
   ],
   "source": [
    "df.info()"
   ]
  },
  {
   "cell_type": "code",
   "execution_count": 25,
   "id": "6c08b762",
   "metadata": {},
   "outputs": [
    {
     "data": {
      "text/html": [
       "<div>\n",
       "<style scoped>\n",
       "    .dataframe tbody tr th:only-of-type {\n",
       "        vertical-align: middle;\n",
       "    }\n",
       "\n",
       "    .dataframe tbody tr th {\n",
       "        vertical-align: top;\n",
       "    }\n",
       "\n",
       "    .dataframe thead th {\n",
       "        text-align: right;\n",
       "    }\n",
       "</style>\n",
       "<table border=\"1\" class=\"dataframe\">\n",
       "  <thead>\n",
       "    <tr style=\"text-align: right;\">\n",
       "      <th></th>\n",
       "      <th>Engine_Size</th>\n",
       "      <th>Cylinders</th>\n",
       "      <th>Fuel_Consumption_in_City(L/100 km)</th>\n",
       "      <th>Fuel_Consumption_in_City_Hwy(L/100 km)</th>\n",
       "      <th>Fuel_Consumption_comb(L/100km)</th>\n",
       "    </tr>\n",
       "  </thead>\n",
       "  <tbody>\n",
       "    <tr>\n",
       "      <th>count</th>\n",
       "      <td>935.000000</td>\n",
       "      <td>935.000000</td>\n",
       "      <td>935.000000</td>\n",
       "      <td>935.000000</td>\n",
       "      <td>935.000000</td>\n",
       "    </tr>\n",
       "    <tr>\n",
       "      <th>mean</th>\n",
       "      <td>3.214866</td>\n",
       "      <td>5.716578</td>\n",
       "      <td>12.498610</td>\n",
       "      <td>9.306203</td>\n",
       "      <td>11.060214</td>\n",
       "    </tr>\n",
       "    <tr>\n",
       "      <th>std</th>\n",
       "      <td>1.388513</td>\n",
       "      <td>1.977359</td>\n",
       "      <td>3.487271</td>\n",
       "      <td>2.215819</td>\n",
       "      <td>2.867028</td>\n",
       "    </tr>\n",
       "    <tr>\n",
       "      <th>min</th>\n",
       "      <td>1.000000</td>\n",
       "      <td>3.000000</td>\n",
       "      <td>4.000000</td>\n",
       "      <td>3.900000</td>\n",
       "      <td>4.000000</td>\n",
       "    </tr>\n",
       "    <tr>\n",
       "      <th>25%</th>\n",
       "      <td>2.000000</td>\n",
       "      <td>4.000000</td>\n",
       "      <td>10.100000</td>\n",
       "      <td>7.700000</td>\n",
       "      <td>9.100000</td>\n",
       "    </tr>\n",
       "    <tr>\n",
       "      <th>50%</th>\n",
       "      <td>3.000000</td>\n",
       "      <td>6.000000</td>\n",
       "      <td>12.000000</td>\n",
       "      <td>9.000000</td>\n",
       "      <td>10.700000</td>\n",
       "    </tr>\n",
       "    <tr>\n",
       "      <th>75%</th>\n",
       "      <td>4.000000</td>\n",
       "      <td>8.000000</td>\n",
       "      <td>14.800000</td>\n",
       "      <td>10.800000</td>\n",
       "      <td>13.100000</td>\n",
       "    </tr>\n",
       "    <tr>\n",
       "      <th>max</th>\n",
       "      <td>8.000000</td>\n",
       "      <td>16.000000</td>\n",
       "      <td>30.300000</td>\n",
       "      <td>20.900000</td>\n",
       "      <td>26.100000</td>\n",
       "    </tr>\n",
       "  </tbody>\n",
       "</table>\n",
       "</div>"
      ],
      "text/plain": [
       "       Engine_Size   Cylinders  Fuel_Consumption_in_City(L/100 km)  \\\n",
       "count   935.000000  935.000000                          935.000000   \n",
       "mean      3.214866    5.716578                           12.498610   \n",
       "std       1.388513    1.977359                            3.487271   \n",
       "min       1.000000    3.000000                            4.000000   \n",
       "25%       2.000000    4.000000                           10.100000   \n",
       "50%       3.000000    6.000000                           12.000000   \n",
       "75%       4.000000    8.000000                           14.800000   \n",
       "max       8.000000   16.000000                           30.300000   \n",
       "\n",
       "       Fuel_Consumption_in_City_Hwy(L/100 km)  Fuel_Consumption_comb(L/100km)  \n",
       "count                              935.000000                      935.000000  \n",
       "mean                                 9.306203                       11.060214  \n",
       "std                                  2.215819                        2.867028  \n",
       "min                                  3.900000                        4.000000  \n",
       "25%                                  7.700000                        9.100000  \n",
       "50%                                  9.000000                       10.700000  \n",
       "75%                                 10.800000                       13.100000  \n",
       "max                                 20.900000                       26.100000  "
      ]
     },
     "execution_count": 25,
     "metadata": {},
     "output_type": "execute_result"
    }
   ],
   "source": [
    "NUMERIC_FEATURES = ['Engine_Size', 'Cylinders', 'Fuel_Consumption_in_City(L/100 km)',\n",
    "       'Fuel_Consumption_in_City_Hwy(L/100 km)',\n",
    "       'Fuel_Consumption_comb(L/100km)']\n",
    "\n",
    "numeric_df = df[NUMERIC_FEATURES]\n",
    "\n",
    "numeric_df.describe()"
   ]
  },
  {
   "cell_type": "code",
   "execution_count": 26,
   "id": "9af783ba",
   "metadata": {},
   "outputs": [
    {
     "data": {
      "text/plain": [
       "array([[-0.5871765 , -0.86858076, -0.74556881, -1.04134739, -0.85856521],\n",
       "       [ 0.20546168,  0.14341053, -0.40127601,  0.67451185, -0.02101344],\n",
       "       [-0.87540857, -0.86858076, -0.42996708, -0.31888034, -0.40489134],\n",
       "       [-0.87540857, -0.86858076, -0.34389388, -0.09310939, -0.26529938],\n",
       "       [-0.87540857, -0.86858076, -0.37258495, -0.58980548, -0.43978933]])"
      ]
     },
     "execution_count": 26,
     "metadata": {},
     "output_type": "execute_result"
    }
   ],
   "source": [
    "from sklearn.preprocessing import scale\n",
    "\n",
    "numeric_array = scale(numeric_df)\n",
    "\n",
    "numeric_array[:5]"
   ]
  },
  {
   "cell_type": "code",
   "execution_count": 27,
   "id": "6da5511b",
   "metadata": {},
   "outputs": [
    {
     "data": {
      "text/html": [
       "<div>\n",
       "<style scoped>\n",
       "    .dataframe tbody tr th:only-of-type {\n",
       "        vertical-align: middle;\n",
       "    }\n",
       "\n",
       "    .dataframe tbody tr th {\n",
       "        vertical-align: top;\n",
       "    }\n",
       "\n",
       "    .dataframe thead th {\n",
       "        text-align: right;\n",
       "    }\n",
       "</style>\n",
       "<table border=\"1\" class=\"dataframe\">\n",
       "  <thead>\n",
       "    <tr style=\"text-align: right;\">\n",
       "      <th></th>\n",
       "      <th>Engine_Size</th>\n",
       "      <th>Cylinders</th>\n",
       "      <th>Fuel_Consumption_in_City(L/100 km)</th>\n",
       "      <th>Fuel_Consumption_in_City_Hwy(L/100 km)</th>\n",
       "      <th>Fuel_Consumption_comb(L/100km)</th>\n",
       "    </tr>\n",
       "  </thead>\n",
       "  <tbody>\n",
       "    <tr>\n",
       "      <th>count</th>\n",
       "      <td>9.350000e+02</td>\n",
       "      <td>9.350000e+02</td>\n",
       "      <td>9.350000e+02</td>\n",
       "      <td>9.350000e+02</td>\n",
       "      <td>9.350000e+02</td>\n",
       "    </tr>\n",
       "    <tr>\n",
       "      <th>mean</th>\n",
       "      <td>3.039755e-17</td>\n",
       "      <td>-1.063914e-16</td>\n",
       "      <td>-3.343731e-16</td>\n",
       "      <td>6.535473e-16</td>\n",
       "      <td>5.015596e-16</td>\n",
       "    </tr>\n",
       "    <tr>\n",
       "      <th>std</th>\n",
       "      <td>1.000535e+00</td>\n",
       "      <td>1.000535e+00</td>\n",
       "      <td>1.000535e+00</td>\n",
       "      <td>1.000535e+00</td>\n",
       "      <td>1.000535e+00</td>\n",
       "    </tr>\n",
       "    <tr>\n",
       "      <th>min</th>\n",
       "      <td>-1.595989e+00</td>\n",
       "      <td>-1.374576e+00</td>\n",
       "      <td>-2.438342e+00</td>\n",
       "      <td>-2.441127e+00</td>\n",
       "      <td>-2.463873e+00</td>\n",
       "    </tr>\n",
       "    <tr>\n",
       "      <th>25%</th>\n",
       "      <td>-8.754086e-01</td>\n",
       "      <td>-8.685808e-01</td>\n",
       "      <td>-6.881867e-01</td>\n",
       "      <td>-7.252681e-01</td>\n",
       "      <td>-6.840753e-01</td>\n",
       "    </tr>\n",
       "    <tr>\n",
       "      <th>50%</th>\n",
       "      <td>-1.548284e-01</td>\n",
       "      <td>1.434105e-01</td>\n",
       "      <td>-1.430564e-01</td>\n",
       "      <td>-1.382636e-01</td>\n",
       "      <td>-1.257074e-01</td>\n",
       "    </tr>\n",
       "    <tr>\n",
       "      <th>75%</th>\n",
       "      <td>5.657518e-01</td>\n",
       "      <td>1.155402e+00</td>\n",
       "      <td>6.602934e-01</td>\n",
       "      <td>6.745118e-01</td>\n",
       "      <td>7.118444e-01</td>\n",
       "    </tr>\n",
       "    <tr>\n",
       "      <th>max</th>\n",
       "      <td>3.448072e+00</td>\n",
       "      <td>5.203367e+00</td>\n",
       "      <td>5.107409e+00</td>\n",
       "      <td>5.235085e+00</td>\n",
       "      <td>5.248583e+00</td>\n",
       "    </tr>\n",
       "  </tbody>\n",
       "</table>\n",
       "</div>"
      ],
      "text/plain": [
       "        Engine_Size     Cylinders  Fuel_Consumption_in_City(L/100 km)  \\\n",
       "count  9.350000e+02  9.350000e+02                        9.350000e+02   \n",
       "mean   3.039755e-17 -1.063914e-16                       -3.343731e-16   \n",
       "std    1.000535e+00  1.000535e+00                        1.000535e+00   \n",
       "min   -1.595989e+00 -1.374576e+00                       -2.438342e+00   \n",
       "25%   -8.754086e-01 -8.685808e-01                       -6.881867e-01   \n",
       "50%   -1.548284e-01  1.434105e-01                       -1.430564e-01   \n",
       "75%    5.657518e-01  1.155402e+00                        6.602934e-01   \n",
       "max    3.448072e+00  5.203367e+00                        5.107409e+00   \n",
       "\n",
       "       Fuel_Consumption_in_City_Hwy(L/100 km)  Fuel_Consumption_comb(L/100km)  \n",
       "count                            9.350000e+02                    9.350000e+02  \n",
       "mean                             6.535473e-16                    5.015596e-16  \n",
       "std                              1.000535e+00                    1.000535e+00  \n",
       "min                             -2.441127e+00                   -2.463873e+00  \n",
       "25%                             -7.252681e-01                   -6.840753e-01  \n",
       "50%                             -1.382636e-01                   -1.257074e-01  \n",
       "75%                              6.745118e-01                    7.118444e-01  \n",
       "max                              5.235085e+00                    5.248583e+00  "
      ]
     },
     "execution_count": 27,
     "metadata": {},
     "output_type": "execute_result"
    }
   ],
   "source": [
    "numeric_df = pd.DataFrame(numeric_array, columns=numeric_df.columns)\n",
    "\n",
    "numeric_df.describe()"
   ]
  },
  {
   "cell_type": "code",
   "execution_count": 28,
   "id": "8f3279b7",
   "metadata": {},
   "outputs": [
    {
     "data": {
      "text/html": [
       "<div>\n",
       "<style scoped>\n",
       "    .dataframe tbody tr th:only-of-type {\n",
       "        vertical-align: middle;\n",
       "    }\n",
       "\n",
       "    .dataframe tbody tr th {\n",
       "        vertical-align: top;\n",
       "    }\n",
       "\n",
       "    .dataframe thead th {\n",
       "        text-align: right;\n",
       "    }\n",
       "</style>\n",
       "<table border=\"1\" class=\"dataframe\">\n",
       "  <thead>\n",
       "    <tr style=\"text-align: right;\">\n",
       "      <th></th>\n",
       "      <th>CO2_Emissions</th>\n",
       "      <th>Make_Acura</th>\n",
       "      <th>Make_Alfa Romeo</th>\n",
       "      <th>Make_Aston Martin</th>\n",
       "      <th>Make_Audi</th>\n",
       "      <th>Make_BMW</th>\n",
       "      <th>Make_Bentley</th>\n",
       "      <th>Make_Bugatti</th>\n",
       "      <th>Make_Buick</th>\n",
       "      <th>Make_Cadillac</th>\n",
       "      <th>...</th>\n",
       "      <th>Transmission_AS9</th>\n",
       "      <th>Transmission_AV</th>\n",
       "      <th>Transmission_AV1</th>\n",
       "      <th>Transmission_AV10</th>\n",
       "      <th>Transmission_AV6</th>\n",
       "      <th>Transmission_AV7</th>\n",
       "      <th>Transmission_AV8</th>\n",
       "      <th>Transmission_M5</th>\n",
       "      <th>Transmission_M6</th>\n",
       "      <th>Transmission_M7</th>\n",
       "    </tr>\n",
       "  </thead>\n",
       "  <tbody>\n",
       "    <tr>\n",
       "      <th>0</th>\n",
       "      <td>199</td>\n",
       "      <td>1</td>\n",
       "      <td>0</td>\n",
       "      <td>0</td>\n",
       "      <td>0</td>\n",
       "      <td>0</td>\n",
       "      <td>0</td>\n",
       "      <td>0</td>\n",
       "      <td>0</td>\n",
       "      <td>0</td>\n",
       "      <td>...</td>\n",
       "      <td>0</td>\n",
       "      <td>0</td>\n",
       "      <td>0</td>\n",
       "      <td>0</td>\n",
       "      <td>0</td>\n",
       "      <td>0</td>\n",
       "      <td>0</td>\n",
       "      <td>0</td>\n",
       "      <td>0</td>\n",
       "      <td>0</td>\n",
       "    </tr>\n",
       "    <tr>\n",
       "      <th>1</th>\n",
       "      <td>256</td>\n",
       "      <td>1</td>\n",
       "      <td>0</td>\n",
       "      <td>0</td>\n",
       "      <td>0</td>\n",
       "      <td>0</td>\n",
       "      <td>0</td>\n",
       "      <td>0</td>\n",
       "      <td>0</td>\n",
       "      <td>0</td>\n",
       "      <td>...</td>\n",
       "      <td>0</td>\n",
       "      <td>0</td>\n",
       "      <td>0</td>\n",
       "      <td>0</td>\n",
       "      <td>0</td>\n",
       "      <td>0</td>\n",
       "      <td>0</td>\n",
       "      <td>0</td>\n",
       "      <td>0</td>\n",
       "      <td>0</td>\n",
       "    </tr>\n",
       "    <tr>\n",
       "      <th>2</th>\n",
       "      <td>232</td>\n",
       "      <td>1</td>\n",
       "      <td>0</td>\n",
       "      <td>0</td>\n",
       "      <td>0</td>\n",
       "      <td>0</td>\n",
       "      <td>0</td>\n",
       "      <td>0</td>\n",
       "      <td>0</td>\n",
       "      <td>0</td>\n",
       "      <td>...</td>\n",
       "      <td>0</td>\n",
       "      <td>0</td>\n",
       "      <td>0</td>\n",
       "      <td>0</td>\n",
       "      <td>0</td>\n",
       "      <td>0</td>\n",
       "      <td>0</td>\n",
       "      <td>0</td>\n",
       "      <td>0</td>\n",
       "      <td>0</td>\n",
       "    </tr>\n",
       "    <tr>\n",
       "      <th>3</th>\n",
       "      <td>242</td>\n",
       "      <td>1</td>\n",
       "      <td>0</td>\n",
       "      <td>0</td>\n",
       "      <td>0</td>\n",
       "      <td>0</td>\n",
       "      <td>0</td>\n",
       "      <td>0</td>\n",
       "      <td>0</td>\n",
       "      <td>0</td>\n",
       "      <td>...</td>\n",
       "      <td>0</td>\n",
       "      <td>0</td>\n",
       "      <td>0</td>\n",
       "      <td>0</td>\n",
       "      <td>0</td>\n",
       "      <td>0</td>\n",
       "      <td>0</td>\n",
       "      <td>0</td>\n",
       "      <td>0</td>\n",
       "      <td>0</td>\n",
       "    </tr>\n",
       "    <tr>\n",
       "      <th>4</th>\n",
       "      <td>230</td>\n",
       "      <td>1</td>\n",
       "      <td>0</td>\n",
       "      <td>0</td>\n",
       "      <td>0</td>\n",
       "      <td>0</td>\n",
       "      <td>0</td>\n",
       "      <td>0</td>\n",
       "      <td>0</td>\n",
       "      <td>0</td>\n",
       "      <td>...</td>\n",
       "      <td>0</td>\n",
       "      <td>0</td>\n",
       "      <td>0</td>\n",
       "      <td>0</td>\n",
       "      <td>0</td>\n",
       "      <td>0</td>\n",
       "      <td>0</td>\n",
       "      <td>0</td>\n",
       "      <td>0</td>\n",
       "      <td>0</td>\n",
       "    </tr>\n",
       "  </tbody>\n",
       "</table>\n",
       "<p>5 rows × 77 columns</p>\n",
       "</div>"
      ],
      "text/plain": [
       "   CO2_Emissions  Make_Acura  Make_Alfa Romeo  Make_Aston Martin  Make_Audi  \\\n",
       "0            199           1                0                  0          0   \n",
       "1            256           1                0                  0          0   \n",
       "2            232           1                0                  0          0   \n",
       "3            242           1                0                  0          0   \n",
       "4            230           1                0                  0          0   \n",
       "\n",
       "   Make_BMW  Make_Bentley  Make_Bugatti  Make_Buick  Make_Cadillac  ...  \\\n",
       "0         0             0             0           0              0  ...   \n",
       "1         0             0             0           0              0  ...   \n",
       "2         0             0             0           0              0  ...   \n",
       "3         0             0             0           0              0  ...   \n",
       "4         0             0             0           0              0  ...   \n",
       "\n",
       "   Transmission_AS9  Transmission_AV  Transmission_AV1  Transmission_AV10  \\\n",
       "0                 0                0                 0                  0   \n",
       "1                 0                0                 0                  0   \n",
       "2                 0                0                 0                  0   \n",
       "3                 0                0                 0                  0   \n",
       "4                 0                0                 0                  0   \n",
       "\n",
       "   Transmission_AV6  Transmission_AV7  Transmission_AV8  Transmission_M5  \\\n",
       "0                 0                 0                 0                0   \n",
       "1                 0                 0                 0                0   \n",
       "2                 0                 0                 0                0   \n",
       "3                 0                 0                 0                0   \n",
       "4                 0                 0                 0                0   \n",
       "\n",
       "   Transmission_M6  Transmission_M7  \n",
       "0                0                0  \n",
       "1                0                0  \n",
       "2                0                0  \n",
       "3                0                0  \n",
       "4                0                0  \n",
       "\n",
       "[5 rows x 77 columns]"
      ]
     },
     "execution_count": 28,
     "metadata": {},
     "output_type": "execute_result"
    }
   ],
   "source": [
    "df.drop(NUMERIC_FEATURES, inplace=True, axis=1)\n",
    "\n",
    "df.head()"
   ]
  },
  {
   "cell_type": "code",
   "execution_count": 29,
   "id": "826de6f5",
   "metadata": {},
   "outputs": [
    {
     "data": {
      "text/plain": [
       "((935, 77), (935, 5))"
      ]
     },
     "execution_count": 29,
     "metadata": {},
     "output_type": "execute_result"
    }
   ],
   "source": [
    "df.shape,numeric_df.shape"
   ]
  },
  {
   "cell_type": "code",
   "execution_count": 30,
   "id": "a5eda553",
   "metadata": {},
   "outputs": [
    {
     "data": {
      "text/plain": [
       "(935, 82)"
      ]
     },
     "execution_count": 30,
     "metadata": {},
     "output_type": "execute_result"
    }
   ],
   "source": [
    "df = pd.concat([df, numeric_df], axis=1)\n",
    "\n",
    "df.shape"
   ]
  },
  {
   "cell_type": "code",
   "execution_count": 31,
   "id": "a6a29e77",
   "metadata": {},
   "outputs": [],
   "source": [
    "df.to_csv('co2emission_processed_ds.csv', index=False)"
   ]
  },
  {
   "cell_type": "code",
   "execution_count": 32,
   "id": "cbb2c8d1",
   "metadata": {},
   "outputs": [
    {
     "name": "stdout",
     "output_type": "stream",
     "text": [
      "CO2_emission.csv\n",
      "co2 emission.ipynb\n",
      "co2emission_processed_ds.csv\n"
     ]
    }
   ],
   "source": [
    "!ls "
   ]
  },
  {
   "cell_type": "code",
   "execution_count": 33,
   "id": "c3f91813",
   "metadata": {},
   "outputs": [],
   "source": [
    "from sklearn.model_selection import train_test_split\n",
    "\n",
    "X = df.drop('CO2_Emissions', axis=1)\n",
    "Y = df['CO2_Emissions']\n",
    "\n",
    "x_train, x_test, y_train, y_test = train_test_split(X, Y, test_size = 0.2, random_state=0)"
   ]
  },
  {
   "cell_type": "code",
   "execution_count": 34,
   "id": "e5c9cbca",
   "metadata": {},
   "outputs": [
    {
     "data": {
      "text/plain": [
       "LinearRegression()"
      ]
     },
     "execution_count": 34,
     "metadata": {},
     "output_type": "execute_result"
    }
   ],
   "source": [
    "from sklearn.linear_model import LinearRegression\n",
    "\n",
    "linear_regression = LinearRegression()\n",
    "\n",
    "linear_regression.fit(x_train, y_train)"
   ]
  },
  {
   "cell_type": "code",
   "execution_count": 35,
   "id": "902ae580",
   "metadata": {},
   "outputs": [
    {
     "data": {
      "text/plain": [
       "array([227.7890625 , 208.01171875, 204.85546875, 254.546875  ,\n",
       "       364.77734375, 328.2109375 , 269.30078125, 190.3671875 ,\n",
       "       322.36328125, 276.01953125, 382.25      , 156.9921875 ,\n",
       "       374.54296875, 237.72265625, 211.34765625, 221.859375  ,\n",
       "       284.95703125, 222.83984375, 420.09375   , 285.375     ,\n",
       "       340.64453125, 213.37109375, 248.8828125 , 263.51171875,\n",
       "       228.98828125, 376.546875  , 253.91015625, 262.87109375,\n",
       "       274.49609375, 176.94921875, 326.02734375, 206.47265625,\n",
       "       219.546875  , 115.79296875, 311.6875    , 263.58203125,\n",
       "       280.23828125, 231.29296875, 177.79296875, 120.74609375,\n",
       "       298.14453125, 216.89453125, 317.91796875, 290.8203125 ,\n",
       "       344.82421875, 257.7109375 , 199.6328125 , 360.06640625,\n",
       "       212.89453125, 309.96484375, 240.28125   , 188.2890625 ,\n",
       "       284.95703125, 206.53515625, 243.984375  , 387.078125  ,\n",
       "       266.41015625, 361.390625  , 276.4921875 , 238.703125  ,\n",
       "       197.92578125, 285.4296875 , 348.3359375 , 212.73828125,\n",
       "       221.0078125 , 222.3125    , 198.16796875, 110.78515625,\n",
       "       233.27734375, 264.734375  , 184.6796875 , 221.09375   ,\n",
       "       263.07421875, 172.94140625, 223.01171875, 163.6328125 ,\n",
       "       282.3828125 , 246.5703125 , 273.76953125, 248.58203125,\n",
       "       238.59765625, 254.671875  , 244.53125   , 509.15234375,\n",
       "       266.96484375, 263.0078125 , 277.046875  , 273.1953125 ,\n",
       "       263.265625  , 161.08984375, 339.98046875, 205.23046875,\n",
       "       177.015625  , 221.640625  , 197.421875  , 259.1796875 ,\n",
       "       294.578125  , 196.01953125, 305.0390625 , 249.87109375,\n",
       "       198.2109375 , 190.30078125, 231.88671875, 182.33203125,\n",
       "       221.65234375, 268.65625   , 343.91015625, 276.40625   ,\n",
       "       276.9375    , 321.66796875, 128.3359375 , 213.27734375,\n",
       "       265.60546875, 182.1015625 , 142.359375  , 332.0859375 ,\n",
       "       240.8671875 , 275.34765625, 268.5625    , 220.828125  ,\n",
       "       245.953125  , 226.51953125, 222.4140625 , 169.76171875,\n",
       "       194.9921875 , 213.27734375, 302.13671875, 289.73046875,\n",
       "       207.25      , 305.5234375 , 383.0859375 , 236.19140625,\n",
       "       208.0859375 , 350.203125  , 251.234375  , 284.95703125,\n",
       "       106.51953125, 330.64453125, 383.        , 323.640625  ,\n",
       "       213.15234375, 223.27734375, 221.47265625, 263.58203125,\n",
       "       216.71484375, 393.94921875, 312.05078125, 250.31640625,\n",
       "       317.1953125 , 349.78515625, 219.2578125 , 383.890625  ,\n",
       "       257.03125   , 247.6015625 , 295.1328125 , 356.39453125,\n",
       "       229.7578125 , 332.9140625 , 383.890625  , 206.4609375 ,\n",
       "       249.66015625, 210.78515625, 349.51953125, 206.46484375,\n",
       "       233.88671875, 323.8984375 , 337.12109375, 400.5859375 ,\n",
       "       254.1171875 , 184.0703125 , 244.09375   , 316.4765625 ,\n",
       "       185.8359375 , 292.03125   , 240.58203125, 239.3203125 ,\n",
       "       380.01171875, 321.33984375, 254.1015625 , 304.3984375 ,\n",
       "       336.28125   , 240.390625  , 203.86328125, 296.59765625,\n",
       "       224.578125  , 230.453125  , 319.79296875])"
      ]
     },
     "execution_count": 35,
     "metadata": {},
     "output_type": "execute_result"
    }
   ],
   "source": [
    "y_prediction = linear_regression.predict(x_test)\n",
    "\n",
    "y_prediction"
   ]
  },
  {
   "cell_type": "code",
   "execution_count": 36,
   "id": "91d3f57a",
   "metadata": {},
   "outputs": [
    {
     "name": "stdout",
     "output_type": "stream",
     "text": [
      "Training score :  0.9624936470027167\n"
     ]
    }
   ],
   "source": [
    "train_score = linear_regression.score(x_train, y_train)\n",
    "\n",
    "print(\"Training score : \", train_score)"
   ]
  },
  {
   "cell_type": "code",
   "execution_count": 37,
   "id": "6e344c0d",
   "metadata": {},
   "outputs": [
    {
     "name": "stdout",
     "output_type": "stream",
     "text": [
      "Testing score :  0.9456791759784451\n"
     ]
    }
   ],
   "source": [
    "from sklearn.metrics import r2_score\n",
    "\n",
    "score = r2_score(y_test,y_prediction)\n",
    "\n",
    "print(\"Testing score : \", score)"
   ]
  },
  {
   "cell_type": "markdown",
   "id": "47448b09",
   "metadata": {},
   "source": [
    "## Regression models"
   ]
  },
  {
   "cell_type": "code",
   "execution_count": 61,
   "id": "2c49e8c5",
   "metadata": {},
   "outputs": [],
   "source": [
    "from sklearn.linear_model import LinearRegression\n",
    "def linear_model(x_train,y_train):\n",
    "    print(\"Linear regression\")\n",
    "    linear_regressor=LinearRegression()\n",
    "    linear_regressor.fit(x_train,y_train)\n",
    "    return linear_regressor\n"
   ]
  },
  {
   "cell_type": "code",
   "execution_count": 62,
   "id": "8461eabe",
   "metadata": {},
   "outputs": [],
   "source": [
    "from sklearn.linear_model import Lasso\n",
    "def lasso(x_train,y_train):\n",
    "    print(\"Lasso regression\")\n",
    "    lasso_regressor=Lasso(alpha=0.8,max_iter=10000)\n",
    "    lasso_regressor.fit(x_train,y_train)\n",
    "    return lasso_regressor\n"
   ]
  },
  {
   "cell_type": "code",
   "execution_count": 63,
   "id": "bc85fae0",
   "metadata": {},
   "outputs": [],
   "source": [
    "from sklearn.linear_model import Ridge\n",
    "def ridge(x_train,y_train):\n",
    "    print(\"Ridge Regression\")\n",
    "    ridge_regressor=Ridge(alpha=0.9)\n",
    "    ridge_regressor.fit(x_train,y_train)\n",
    "    return ridge_regressor\n"
   ]
  },
  {
   "cell_type": "code",
   "execution_count": 64,
   "id": "9a138fcd",
   "metadata": {},
   "outputs": [],
   "source": [
    "def build_and_train_model(data,target,reg_fn):\n",
    "    X=data.drop(target,axis=1)\n",
    "    Y=data[target]\n",
    "    x_train,x_test,y_train,y_test=train_test_split(X,Y,test_size=0.2,random_state=0)\n",
    "    model=reg_fn(x_train,y_train)\n",
    "    y_pred=model.predict(x_test)\n",
    "    score=model.score(x_train,y_train)\n",
    "    print(\"training score: \",score)\n",
    "    r_score=r2_score(y_test,y_pred)\n",
    "    print(\"testing score:\",r_score)\n",
    "    \n",
    "    return {\n",
    "        'model':model,\n",
    "        'x_train' : x_train, 'x_test' : x_test,\n",
    "        'y_train' : y_train, 'y_test' : y_test, \n",
    "        'y_pred' : y_pred\n",
    "    }"
   ]
  },
  {
   "cell_type": "code",
   "execution_count": 65,
   "id": "94c8c042",
   "metadata": {},
   "outputs": [
    {
     "name": "stdout",
     "output_type": "stream",
     "text": [
      "Linear regression\n",
      "training score:  0.9624936470027167\n",
      "testing score: 0.9456791759784451\n"
     ]
    }
   ],
   "source": [
    "linearModel=build_and_train_model(df,'CO2_Emissions',linear_model)"
   ]
  },
  {
   "cell_type": "code",
   "execution_count": 66,
   "id": "5dc41462",
   "metadata": {},
   "outputs": [
    {
     "name": "stdout",
     "output_type": "stream",
     "text": [
      "Ridge Regression\n",
      "training score:  0.9620537608068291\n",
      "testing score: 0.9463650539135784\n"
     ]
    }
   ],
   "source": [
    "ridge_model=build_and_train_model(df,'CO2_Emissions',ridge)"
   ]
  },
  {
   "cell_type": "code",
   "execution_count": 67,
   "id": "3dc7b414",
   "metadata": {},
   "outputs": [
    {
     "name": "stdout",
     "output_type": "stream",
     "text": [
      "Lasso regression\n",
      "training score:  0.9522844970070222\n",
      "testing score: 0.9288700519595127\n"
     ]
    }
   ],
   "source": [
    "lasso_model=build_and_train_model(df,'CO2_Emissions',lasso)"
   ]
  },
  {
   "cell_type": "code",
   "execution_count": 68,
   "id": "b1db9a54",
   "metadata": {},
   "outputs": [],
   "source": [
    "from sklearn.linear_model import SGDRegressor\n",
    "def sgd(x_train,y_train):\n",
    "    print(\"SGD regression\")\n",
    "    sgd_regressor=SGDRegressor(max_iter=1000)\n",
    "    sgd_regressor.fit(x_train,y_train)\n",
    "    return sgd_regressor\n"
   ]
  },
  {
   "cell_type": "code",
   "execution_count": 70,
   "id": "bc73c9ca",
   "metadata": {},
   "outputs": [
    {
     "name": "stdout",
     "output_type": "stream",
     "text": [
      "SGD regression\n",
      "training score:  0.9601841253815508\n",
      "testing score: 0.9442105857484003\n"
     ]
    }
   ],
   "source": [
    "sgd_model=build_and_train_model(df,'CO2_Emissions',sgd)"
   ]
  },
  {
   "cell_type": "code",
   "execution_count": null,
   "id": "913e7074",
   "metadata": {},
   "outputs": [],
   "source": []
  }
 ],
 "metadata": {
  "kernelspec": {
   "display_name": "Python 3 (ipykernel)",
   "language": "python",
   "name": "python3"
  },
  "language_info": {
   "codemirror_mode": {
    "name": "ipython",
    "version": 3
   },
   "file_extension": ".py",
   "mimetype": "text/x-python",
   "name": "python",
   "nbconvert_exporter": "python",
   "pygments_lexer": "ipython3",
   "version": "3.9.6"
  }
 },
 "nbformat": 4,
 "nbformat_minor": 5
}
